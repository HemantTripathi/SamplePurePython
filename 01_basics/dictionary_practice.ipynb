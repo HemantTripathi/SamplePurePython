{
 "cells": [
  {
   "metadata": {},
   "cell_type": "markdown",
   "source": "**Dictionary Practice**",
   "id": "315e284bc956e92"
  },
  {
   "metadata": {
    "ExecuteTime": {
     "end_time": "2025-06-04T07:08:17.244237Z",
     "start_time": "2025-06-04T07:08:17.227246Z"
    }
   },
   "cell_type": "code",
   "source": [
    "chai_types = {\"Masala\":\"Spicy\", \"Ginger\":\"Zesty\",\"Green\":\"Mild\"}\n",
    "print(chai_types)"
   ],
   "id": "initial_id",
   "outputs": [
    {
     "name": "stdout",
     "output_type": "stream",
     "text": [
      "{'Masala': 'Spicy', 'Ginger': 'Zesty', 'Green': 'Mild'}\n"
     ]
    }
   ],
   "execution_count": 1
  },
  {
   "metadata": {
    "ExecuteTime": {
     "end_time": "2025-06-04T07:08:47.666700Z",
     "start_time": "2025-06-04T07:08:47.636175Z"
    }
   },
   "cell_type": "code",
   "source": "print(chai_types[\"Masala\"])",
   "id": "fbc1982b61119049",
   "outputs": [
    {
     "name": "stdout",
     "output_type": "stream",
     "text": [
      "Spicy\n"
     ]
    }
   ],
   "execution_count": 2
  },
  {
   "metadata": {
    "ExecuteTime": {
     "end_time": "2025-06-04T07:09:08.793743Z",
     "start_time": "2025-06-04T07:09:08.717440Z"
    }
   },
   "cell_type": "code",
   "source": "chai_types.get(\"Ginger\")",
   "id": "96800caef4a617e9",
   "outputs": [
    {
     "data": {
      "text/plain": [
       "'Zesty'"
      ]
     },
     "execution_count": 3,
     "metadata": {},
     "output_type": "execute_result"
    }
   ],
   "execution_count": 3
  },
  {
   "metadata": {
    "ExecuteTime": {
     "end_time": "2025-06-04T07:09:23.653824Z",
     "start_time": "2025-06-04T07:09:23.606317Z"
    }
   },
   "cell_type": "code",
   "source": "chai_types.get(\"Greenn\")",
   "id": "c48934185ec5fd03",
   "outputs": [],
   "execution_count": 4
  },
  {
   "metadata": {
    "ExecuteTime": {
     "end_time": "2025-06-04T07:10:14.078001Z",
     "start_time": "2025-06-04T07:10:14.067120Z"
    }
   },
   "cell_type": "code",
   "source": [
    "chai_types[\"Green\"] = \"Fresh\"\n",
    "print(chai_types)"
   ],
   "id": "cafda74cec3d869f",
   "outputs": [
    {
     "name": "stdout",
     "output_type": "stream",
     "text": [
      "{'Masala': 'Spicy', 'Ginger': 'Zesty', 'Green': 'Fresh'}\n"
     ]
    }
   ],
   "execution_count": 7
  },
  {
   "metadata": {
    "ExecuteTime": {
     "end_time": "2025-06-04T07:10:56.540613Z",
     "start_time": "2025-06-04T07:10:56.510409Z"
    }
   },
   "cell_type": "code",
   "source": [
    "for chai in chai_types:\n",
    "    print(chai)"
   ],
   "id": "14e37698a553cea",
   "outputs": [
    {
     "name": "stdout",
     "output_type": "stream",
     "text": [
      "Masala\n",
      "Ginger\n",
      "Green\n"
     ]
    }
   ],
   "execution_count": 8
  },
  {
   "metadata": {
    "ExecuteTime": {
     "end_time": "2025-06-04T07:12:02.671820Z",
     "start_time": "2025-06-04T07:12:02.664705Z"
    }
   },
   "cell_type": "code",
   "source": [
    "for chai in chai_types:\n",
    "    print(chai, chai_types[chai])"
   ],
   "id": "a3f11603f4a78ef0",
   "outputs": [
    {
     "name": "stdout",
     "output_type": "stream",
     "text": [
      "Masala Spicy\n",
      "Ginger Zesty\n",
      "Green Fresh\n"
     ]
    }
   ],
   "execution_count": 9
  },
  {
   "metadata": {
    "ExecuteTime": {
     "end_time": "2025-06-04T07:12:36.586597Z",
     "start_time": "2025-06-04T07:12:36.524511Z"
    }
   },
   "cell_type": "code",
   "source": [
    "for key, value in chai_types.items():\n",
    "    print(key, value)"
   ],
   "id": "ce571747df20a026",
   "outputs": [
    {
     "name": "stdout",
     "output_type": "stream",
     "text": [
      "Masala Spicy\n",
      "Ginger Zesty\n",
      "Green Fresh\n"
     ]
    }
   ],
   "execution_count": 10
  },
  {
   "metadata": {
    "ExecuteTime": {
     "end_time": "2025-06-04T07:13:24.736082Z",
     "start_time": "2025-06-04T07:13:24.684738Z"
    }
   },
   "cell_type": "code",
   "source": [
    "if \"Masala\" in chai_types:\n",
    "    print(\"I have masala chai\")\n",
    "else:\n",
    "    print(\"I don't have masala chai\")"
   ],
   "id": "f20ddc5de76ffa00",
   "outputs": [
    {
     "name": "stdout",
     "output_type": "stream",
     "text": [
      "I have masala chai\n"
     ]
    }
   ],
   "execution_count": 11
  },
  {
   "metadata": {
    "ExecuteTime": {
     "end_time": "2025-06-04T07:13:53.876491Z",
     "start_time": "2025-06-04T07:13:53.868503Z"
    }
   },
   "cell_type": "code",
   "source": "print(len(chai_types))",
   "id": "83043859e0a23c9c",
   "outputs": [
    {
     "name": "stdout",
     "output_type": "stream",
     "text": [
      "3\n"
     ]
    }
   ],
   "execution_count": 12
  },
  {
   "metadata": {
    "ExecuteTime": {
     "end_time": "2025-06-04T07:14:26.641670Z",
     "start_time": "2025-06-04T07:14:26.625647Z"
    }
   },
   "cell_type": "code",
   "source": [
    "chai_types[\"Earl Grey\"] = \"Citrus\"\n",
    "print(chai_types)"
   ],
   "id": "757929196434f3c",
   "outputs": [
    {
     "name": "stdout",
     "output_type": "stream",
     "text": [
      "{'Masala': 'Spicy', 'Ginger': 'Zesty', 'Green': 'Fresh', 'Earl Grey': 'Citrus'}\n"
     ]
    }
   ],
   "execution_count": 13
  },
  {
   "metadata": {
    "ExecuteTime": {
     "end_time": "2025-06-04T07:14:45.891856Z",
     "start_time": "2025-06-04T07:14:45.827474Z"
    }
   },
   "cell_type": "code",
   "source": "chai_types.pop(\"Ginger\")",
   "id": "803ad76aa92f1922",
   "outputs": [
    {
     "data": {
      "text/plain": [
       "'Zesty'"
      ]
     },
     "execution_count": 14,
     "metadata": {},
     "output_type": "execute_result"
    }
   ],
   "execution_count": 14
  },
  {
   "metadata": {
    "ExecuteTime": {
     "end_time": "2025-06-04T07:14:56.131168Z",
     "start_time": "2025-06-04T07:14:56.095496Z"
    }
   },
   "cell_type": "code",
   "source": "print(chai_types)",
   "id": "3a91dd9724898cca",
   "outputs": [
    {
     "name": "stdout",
     "output_type": "stream",
     "text": [
      "{'Masala': 'Spicy', 'Green': 'Fresh', 'Earl Grey': 'Citrus'}\n"
     ]
    }
   ],
   "execution_count": 15
  },
  {
   "metadata": {
    "ExecuteTime": {
     "end_time": "2025-06-04T07:15:20.201028Z",
     "start_time": "2025-06-04T07:15:20.116265Z"
    }
   },
   "cell_type": "code",
   "source": "chai_types.popitem()",
   "id": "5165f8c164d9e6f4",
   "outputs": [
    {
     "data": {
      "text/plain": [
       "('Earl Grey', 'Citrus')"
      ]
     },
     "execution_count": 16,
     "metadata": {},
     "output_type": "execute_result"
    }
   ],
   "execution_count": 16
  },
  {
   "metadata": {
    "ExecuteTime": {
     "end_time": "2025-06-04T07:15:28.218577Z",
     "start_time": "2025-06-04T07:15:28.180551Z"
    }
   },
   "cell_type": "code",
   "source": "print(chai_types)",
   "id": "b999daae477ab228",
   "outputs": [
    {
     "name": "stdout",
     "output_type": "stream",
     "text": [
      "{'Masala': 'Spicy', 'Green': 'Fresh'}\n"
     ]
    }
   ],
   "execution_count": 17
  },
  {
   "metadata": {
    "ExecuteTime": {
     "end_time": "2025-06-04T07:16:08.528818Z",
     "start_time": "2025-06-04T07:16:08.514035Z"
    }
   },
   "cell_type": "code",
   "source": [
    "del chai_types[\"Green\"]\n",
    "print(chai_types)"
   ],
   "id": "e2573651d1a0e0b9",
   "outputs": [
    {
     "name": "stdout",
     "output_type": "stream",
     "text": [
      "{'Masala': 'Spicy'}\n"
     ]
    }
   ],
   "execution_count": 18
  },
  {
   "metadata": {
    "ExecuteTime": {
     "end_time": "2025-06-04T07:17:08.012660Z",
     "start_time": "2025-06-04T07:17:08.005087Z"
    }
   },
   "cell_type": "code",
   "source": [
    "chai_types_copy = chai_types.copy()\n",
    "print(chai_types_copy)"
   ],
   "id": "c042dc672ad28ca",
   "outputs": [
    {
     "name": "stdout",
     "output_type": "stream",
     "text": [
      "{'Masala': 'Spicy'}\n"
     ]
    }
   ],
   "execution_count": 19
  },
  {
   "metadata": {
    "ExecuteTime": {
     "end_time": "2025-06-04T07:20:23.553312Z",
     "start_time": "2025-06-04T07:20:23.477926Z"
    }
   },
   "cell_type": "code",
   "source": [
    "tea_shop = {\"chai\": {\"Masala\":\"Spicy\", \"Ginger\":\"Zesty\"},\n",
    "            \"tea\": {\"Green\":\"Mild\", \"Black\":\"Strong\"}\n",
    "            }"
   ],
   "id": "fd47241ef9a6aa99",
   "outputs": [],
   "execution_count": 20
  },
  {
   "metadata": {
    "ExecuteTime": {
     "end_time": "2025-06-04T07:20:27.458373Z",
     "start_time": "2025-06-04T07:20:27.440213Z"
    }
   },
   "cell_type": "code",
   "source": "print(tea_shop)",
   "id": "b14a6b7ce8846642",
   "outputs": [
    {
     "name": "stdout",
     "output_type": "stream",
     "text": [
      "{'chai': {'Masala': 'Spicy', 'Ginger': 'Zesty'}, 'tea': {'Green': 'Mild', 'Black': 'Strong'}}\n"
     ]
    }
   ],
   "execution_count": 21
  },
  {
   "metadata": {
    "ExecuteTime": {
     "end_time": "2025-06-04T07:20:45.565277Z",
     "start_time": "2025-06-04T07:20:45.549882Z"
    }
   },
   "cell_type": "code",
   "source": "print(tea_shop[\"chai\"])",
   "id": "8ea2ab70f274fa02",
   "outputs": [
    {
     "name": "stdout",
     "output_type": "stream",
     "text": [
      "{'Masala': 'Spicy', 'Ginger': 'Zesty'}\n"
     ]
    }
   ],
   "execution_count": 22
  },
  {
   "metadata": {
    "ExecuteTime": {
     "end_time": "2025-06-04T07:21:27.584045Z",
     "start_time": "2025-06-04T07:21:27.576796Z"
    }
   },
   "cell_type": "code",
   "source": "print(tea_shop[\"chai\"][\"Ginger\"])",
   "id": "97aaeb689fd301cf",
   "outputs": [
    {
     "name": "stdout",
     "output_type": "stream",
     "text": [
      "Zesty\n"
     ]
    }
   ],
   "execution_count": 23
  },
  {
   "metadata": {
    "ExecuteTime": {
     "end_time": "2025-06-04T07:23:06.818079Z",
     "start_time": "2025-06-04T07:23:06.789635Z"
    }
   },
   "cell_type": "code",
   "source": [
    "squared_num = {x:x**2 for x in range(6)}\n",
    "print(squared_num)"
   ],
   "id": "be28814ec172f687",
   "outputs": [
    {
     "name": "stdout",
     "output_type": "stream",
     "text": [
      "{0: 0, 1: 1, 2: 4, 3: 9, 4: 16, 5: 25}\n"
     ]
    }
   ],
   "execution_count": 24
  },
  {
   "metadata": {
    "ExecuteTime": {
     "end_time": "2025-06-04T07:23:22.923621Z",
     "start_time": "2025-06-04T07:23:22.905786Z"
    }
   },
   "cell_type": "code",
   "source": "squared_num.clear()",
   "id": "e699f6c5d90742a5",
   "outputs": [],
   "execution_count": 25
  },
  {
   "metadata": {
    "ExecuteTime": {
     "end_time": "2025-06-04T07:23:27.452072Z",
     "start_time": "2025-06-04T07:23:27.421629Z"
    }
   },
   "cell_type": "code",
   "source": "print(squared_num)",
   "id": "efb53b56949cd93",
   "outputs": [
    {
     "name": "stdout",
     "output_type": "stream",
     "text": [
      "{}\n"
     ]
    }
   ],
   "execution_count": 26
  },
  {
   "metadata": {
    "ExecuteTime": {
     "end_time": "2025-06-04T07:24:03.078350Z",
     "start_time": "2025-06-04T07:24:03.026274Z"
    }
   },
   "cell_type": "code",
   "source": "keys = [\"Masala\",\"Ginger\",\"Lemon\"]",
   "id": "f62e58f5a588c5fe",
   "outputs": [],
   "execution_count": 27
  },
  {
   "metadata": {
    "ExecuteTime": {
     "end_time": "2025-06-04T07:24:08.919066Z",
     "start_time": "2025-06-04T07:24:08.866727Z"
    }
   },
   "cell_type": "code",
   "source": "print(keys)",
   "id": "f5d25beb06dc7395",
   "outputs": [
    {
     "name": "stdout",
     "output_type": "stream",
     "text": [
      "['Masala', 'Ginger', 'Lemon']\n"
     ]
    }
   ],
   "execution_count": 28
  },
  {
   "metadata": {
    "ExecuteTime": {
     "end_time": "2025-06-04T07:24:41.757210Z",
     "start_time": "2025-06-04T07:24:41.752221Z"
    }
   },
   "cell_type": "code",
   "source": "default_value = \"Delicious\"",
   "id": "99b91d739f76d79f",
   "outputs": [],
   "execution_count": 29
  },
  {
   "metadata": {
    "ExecuteTime": {
     "end_time": "2025-06-04T07:25:24.990072Z",
     "start_time": "2025-06-04T07:25:24.966144Z"
    }
   },
   "cell_type": "code",
   "source": [
    "new_dict = dict.fromkeys(keys, default_value)\n",
    "print(new_dict)"
   ],
   "id": "750123f282f75c79",
   "outputs": [
    {
     "name": "stdout",
     "output_type": "stream",
     "text": [
      "{'Masala': 'Delicious', 'Ginger': 'Delicious', 'Lemon': 'Delicious'}\n"
     ]
    }
   ],
   "execution_count": 30
  },
  {
   "metadata": {
    "ExecuteTime": {
     "end_time": "2025-06-04T07:26:31.466398Z",
     "start_time": "2025-06-04T07:26:31.459160Z"
    }
   },
   "cell_type": "code",
   "source": [
    "new_dict =  dict.fromkeys(keys, keys)\n",
    "print(new_dict)"
   ],
   "id": "52fb119a790334ce",
   "outputs": [
    {
     "name": "stdout",
     "output_type": "stream",
     "text": [
      "{'Masala': ['Masala', 'Ginger', 'Lemon'], 'Ginger': ['Masala', 'Ginger', 'Lemon'], 'Lemon': ['Masala', 'Ginger', 'Lemon']}\n"
     ]
    }
   ],
   "execution_count": 32
  },
  {
   "metadata": {},
   "cell_type": "code",
   "outputs": [],
   "execution_count": null,
   "source": "",
   "id": "c6aad31864f649df"
  }
 ],
 "metadata": {
  "kernelspec": {
   "display_name": "Python 3",
   "language": "python",
   "name": "python3"
  },
  "language_info": {
   "codemirror_mode": {
    "name": "ipython",
    "version": 2
   },
   "file_extension": ".py",
   "mimetype": "text/x-python",
   "name": "python",
   "nbconvert_exporter": "python",
   "pygments_lexer": "ipython2",
   "version": "2.7.6"
  }
 },
 "nbformat": 4,
 "nbformat_minor": 5
}
