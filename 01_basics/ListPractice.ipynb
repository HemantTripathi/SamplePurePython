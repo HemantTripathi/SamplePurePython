{
 "cells": [
  {
   "metadata": {},
   "cell_type": "markdown",
   "source": "Lets Practice all the types of Lists in Python",
   "id": "7cbeedd3800f9b47"
  },
  {
   "metadata": {
    "ExecuteTime": {
     "end_time": "2025-06-04T06:07:04.886433Z",
     "start_time": "2025-06-04T06:07:04.831097Z"
    }
   },
   "cell_type": "code",
   "source": [
    "tea_varities = [\"Black\",\"Green\",\"Oolang\",\"White\"]\n",
    "print(tea_varities)"
   ],
   "id": "76df32cad4bab9c",
   "outputs": [
    {
     "name": "stdout",
     "output_type": "stream",
     "text": [
      "['Black', 'Green', 'Oolang', 'White']\n",
      "White\n"
     ]
    }
   ],
   "execution_count": 3
  },
  {
   "metadata": {
    "ExecuteTime": {
     "end_time": "2025-06-04T06:09:12.725057Z",
     "start_time": "2025-06-04T06:09:12.672629Z"
    }
   },
   "cell_type": "code",
   "source": "print(tea_varities[-1])",
   "id": "22b44b3556a810df",
   "outputs": [
    {
     "name": "stdout",
     "output_type": "stream",
     "text": [
      "White\n"
     ]
    }
   ],
   "execution_count": 4
  },
  {
   "metadata": {
    "ExecuteTime": {
     "end_time": "2025-06-04T06:09:16.763678Z",
     "start_time": "2025-06-04T06:09:16.752242Z"
    }
   },
   "cell_type": "code",
   "source": "print(tea_varities[:])",
   "id": "20c62a68cab6427e",
   "outputs": [
    {
     "name": "stdout",
     "output_type": "stream",
     "text": [
      "['Black', 'Green', 'Oolang', 'White']\n"
     ]
    }
   ],
   "execution_count": 5
  },
  {
   "metadata": {
    "ExecuteTime": {
     "end_time": "2025-06-04T06:10:04.690186Z",
     "start_time": "2025-06-04T06:10:04.672294Z"
    }
   },
   "cell_type": "code",
   "source": "print(tea_varities[1:3])",
   "id": "61a4bb4956d4e9d",
   "outputs": [
    {
     "name": "stdout",
     "output_type": "stream",
     "text": [
      "['Green', 'Oolang']\n"
     ]
    }
   ],
   "execution_count": 6
  },
  {
   "metadata": {
    "ExecuteTime": {
     "end_time": "2025-06-04T06:11:37.435436Z",
     "start_time": "2025-06-04T06:11:37.418369Z"
    }
   },
   "cell_type": "code",
   "source": "print(tea_varities[:2])",
   "id": "44178f0a12f54fb4",
   "outputs": [
    {
     "name": "stdout",
     "output_type": "stream",
     "text": [
      "['Black', 'Green']\n"
     ]
    }
   ],
   "execution_count": 8
  },
  {
   "metadata": {
    "ExecuteTime": {
     "end_time": "2025-06-04T06:12:41.141386Z",
     "start_time": "2025-06-04T06:12:41.099410Z"
    }
   },
   "cell_type": "code",
   "source": "print(tea_varities[2:])",
   "id": "54eb902df637fea1",
   "outputs": [
    {
     "name": "stdout",
     "output_type": "stream",
     "text": [
      "['Oolang', 'White']\n"
     ]
    }
   ],
   "execution_count": 10
  },
  {
   "metadata": {
    "ExecuteTime": {
     "end_time": "2025-06-04T06:17:02.927676Z",
     "start_time": "2025-06-04T06:17:02.910328Z"
    }
   },
   "cell_type": "code",
   "source": [
    "tea_varities[3] = \"Herbal\"\n",
    "print(tea_varities)"
   ],
   "id": "31ea12f195999c32",
   "outputs": [
    {
     "name": "stdout",
     "output_type": "stream",
     "text": [
      "['Black', 'Green', 'Oolang', 'Herbal']\n"
     ]
    }
   ],
   "execution_count": 15
  },
  {
   "metadata": {
    "ExecuteTime": {
     "end_time": "2025-06-04T06:17:50.097984Z",
     "start_time": "2025-06-04T06:17:50.083089Z"
    }
   },
   "cell_type": "code",
   "source": [
    "tea_varities[1:2] = \"Herbal\"\n",
    "print(tea_varities)"
   ],
   "id": "bcecc9103ed4cb37",
   "outputs": [
    {
     "name": "stdout",
     "output_type": "stream",
     "text": [
      "['Black', 'H', 'e', 'r', 'b', 'a', 'l', 'Oolang', 'Herbal']\n"
     ]
    }
   ],
   "execution_count": 16
  },
  {
   "metadata": {},
   "cell_type": "markdown",
   "source": [
    "As we tried to insert the data using slicing but it is inserting in way, so if you want to insert the data using slicing\n",
    "instead of directly using index position then you have to put it as an array like below"
   ],
   "id": "27fb477f8d400caa"
  },
  {
   "metadata": {
    "ExecuteTime": {
     "end_time": "2025-06-04T06:19:20.630259Z",
     "start_time": "2025-06-04T06:19:20.568940Z"
    }
   },
   "cell_type": "code",
   "source": [
    "tea_varities = [\"Black\",\"Green\",\"Oolang\",\"White\"]\n",
    "print(tea_varities)\n",
    "tea_varities[1:2] = [\"Lemon\"]\n",
    "print(tea_varities)"
   ],
   "id": "cd1296f1174bc52a",
   "outputs": [
    {
     "name": "stdout",
     "output_type": "stream",
     "text": [
      "['Black', 'Green', 'Oolang', 'White']\n",
      "['Black', 'Lemon', 'Oolang', 'White']\n"
     ]
    }
   ],
   "execution_count": 18
  },
  {
   "metadata": {
    "ExecuteTime": {
     "end_time": "2025-06-04T06:22:01.019291Z",
     "start_time": "2025-06-04T06:22:00.937743Z"
    }
   },
   "cell_type": "code",
   "source": "print(tea_varities[1:3])",
   "id": "d1de40f6eff7c9b",
   "outputs": [
    {
     "name": "stdout",
     "output_type": "stream",
     "text": [
      "['Lemon', 'Oolang']\n"
     ]
    }
   ],
   "execution_count": 19
  },
  {
   "metadata": {
    "ExecuteTime": {
     "end_time": "2025-06-04T06:23:18.144234Z",
     "start_time": "2025-06-04T06:23:18.102102Z"
    }
   },
   "cell_type": "code",
   "source": [
    "tea_varities[1:3] = [\"Green\",\"Masala\"]\n",
    "print(tea_varities)"
   ],
   "id": "9426921720b8ea16",
   "outputs": [
    {
     "name": "stdout",
     "output_type": "stream",
     "text": [
      "['Black', 'Green', 'Masala', 'White']\n"
     ]
    }
   ],
   "execution_count": 20
  },
  {
   "metadata": {
    "ExecuteTime": {
     "end_time": "2025-06-04T06:35:52.159220Z",
     "start_time": "2025-06-04T06:35:52.114954Z"
    }
   },
   "cell_type": "code",
   "source": [
    "for tea in tea_varities:\n",
    "    print(tea, end=\"-\")\n"
   ],
   "id": "78944de494fe4881",
   "outputs": [
    {
     "name": "stdout",
     "output_type": "stream",
     "text": [
      "Black-Green-Masala-White-"
     ]
    }
   ],
   "execution_count": 22
  },
  {
   "metadata": {
    "ExecuteTime": {
     "end_time": "2025-06-04T06:37:50.362473Z",
     "start_time": "2025-06-04T06:37:50.320736Z"
    }
   },
   "cell_type": "code",
   "source": [
    "if \"Oolang\" in tea_varities:\n",
    "    print(\"I have Oolang tea\")\n",
    "else:\n",
    "    print(\"No Oolang tea\")"
   ],
   "id": "ab5e7d87a292db9e",
   "outputs": [
    {
     "name": "stdout",
     "output_type": "stream",
     "text": [
      "I have Oolang tea\n"
     ]
    }
   ],
   "execution_count": 25
  },
  {
   "metadata": {
    "ExecuteTime": {
     "end_time": "2025-06-04T06:37:55.586651Z",
     "start_time": "2025-06-04T06:37:55.552167Z"
    }
   },
   "cell_type": "code",
   "source": [
    "tea_varities.append(\"Oolang\")\n",
    "if \"Oolang\" in tea_varities:\n",
    "    print(\"I have Oolang tea\")"
   ],
   "id": "3c18fd2787d0b105",
   "outputs": [
    {
     "name": "stdout",
     "output_type": "stream",
     "text": [
      "I have Oolang tea\n"
     ]
    }
   ],
   "execution_count": 26
  },
  {
   "metadata": {
    "ExecuteTime": {
     "end_time": "2025-06-04T06:38:46.967279Z",
     "start_time": "2025-06-04T06:38:46.921381Z"
    }
   },
   "cell_type": "code",
   "source": "tea_varities.pop()\n",
   "id": "3e4cebd8bff78b75",
   "outputs": [
    {
     "data": {
      "text/plain": [
       "'Oolang'"
      ]
     },
     "execution_count": 29,
     "metadata": {},
     "output_type": "execute_result"
    }
   ],
   "execution_count": 29
  },
  {
   "metadata": {
    "ExecuteTime": {
     "end_time": "2025-06-04T06:38:50.039573Z",
     "start_time": "2025-06-04T06:38:49.993060Z"
    }
   },
   "cell_type": "code",
   "source": "print(tea_varities)",
   "id": "e2e22f8bd4bdda9b",
   "outputs": [
    {
     "name": "stdout",
     "output_type": "stream",
     "text": [
      "['Black', 'Green', 'Masala', 'White']\n"
     ]
    }
   ],
   "execution_count": 30
  },
  {
   "metadata": {
    "ExecuteTime": {
     "end_time": "2025-06-04T06:39:47.523553Z",
     "start_time": "2025-06-04T06:39:47.466113Z"
    }
   },
   "cell_type": "code",
   "source": [
    "tea_varities.insert(1,\"Green\")\n",
    "print(tea_varities)"
   ],
   "id": "70485db606022702",
   "outputs": [
    {
     "name": "stdout",
     "output_type": "stream",
     "text": [
      "['Black', 'Green', 'Green', 'Masala', 'White']\n"
     ]
    }
   ],
   "execution_count": 31
  },
  {
   "metadata": {
    "ExecuteTime": {
     "end_time": "2025-06-04T06:40:30.433787Z",
     "start_time": "2025-06-04T06:40:30.363815Z"
    }
   },
   "cell_type": "code",
   "source": "tea_varities_copy = tea_varities.copy()",
   "id": "e6d5416959a046e0",
   "outputs": [],
   "execution_count": 32
  },
  {
   "metadata": {
    "ExecuteTime": {
     "end_time": "2025-06-04T06:41:48.200548Z",
     "start_time": "2025-06-04T06:41:48.195064Z"
    }
   },
   "cell_type": "code",
   "source": "tea_varities_copy.append(\"Lemon\")",
   "id": "96e9cc1702b316c1",
   "outputs": [],
   "execution_count": 35
  },
  {
   "metadata": {
    "ExecuteTime": {
     "end_time": "2025-06-04T06:41:51.385032Z",
     "start_time": "2025-06-04T06:41:51.379412Z"
    }
   },
   "cell_type": "code",
   "source": "print(tea_varities_copy)",
   "id": "593f0e7f68835f36",
   "outputs": [
    {
     "name": "stdout",
     "output_type": "stream",
     "text": [
      "['Black', 'Green', 'Green', 'Masala', 'White', 'Lemon', 'Lemon']\n"
     ]
    }
   ],
   "execution_count": 36
  },
  {
   "metadata": {
    "ExecuteTime": {
     "end_time": "2025-06-04T06:42:03.694511Z",
     "start_time": "2025-06-04T06:42:03.680487Z"
    }
   },
   "cell_type": "code",
   "source": "tea_varities_copy.pop()",
   "id": "32d190b5d5df5c4a",
   "outputs": [
    {
     "data": {
      "text/plain": [
       "'Lemon'"
      ]
     },
     "execution_count": 37,
     "metadata": {},
     "output_type": "execute_result"
    }
   ],
   "execution_count": 37
  },
  {
   "metadata": {
    "ExecuteTime": {
     "end_time": "2025-06-04T06:42:15.629348Z",
     "start_time": "2025-06-04T06:42:15.618942Z"
    }
   },
   "cell_type": "code",
   "source": "print(tea_varities_copy)",
   "id": "f3929266aab3377",
   "outputs": [
    {
     "name": "stdout",
     "output_type": "stream",
     "text": [
      "['Black', 'Green', 'Green', 'Masala', 'White', 'Lemon']\n"
     ]
    }
   ],
   "execution_count": 38
  },
  {
   "metadata": {
    "ExecuteTime": {
     "end_time": "2025-06-04T06:45:12.662885Z",
     "start_time": "2025-06-04T06:45:12.625893Z"
    }
   },
   "cell_type": "code",
   "source": "squared_nums = [x**2 for x in range(10)]",
   "id": "d18aafa0e4582e87",
   "outputs": [],
   "execution_count": 39
  },
  {
   "metadata": {
    "ExecuteTime": {
     "end_time": "2025-06-04T06:45:28.418942Z",
     "start_time": "2025-06-04T06:45:28.339672Z"
    }
   },
   "cell_type": "code",
   "source": "print(squared_nums)",
   "id": "4de522260a58d75f",
   "outputs": [
    {
     "name": "stdout",
     "output_type": "stream",
     "text": [
      "[0, 1, 4, 9, 16, 25, 36, 49, 64, 81]\n"
     ]
    }
   ],
   "execution_count": 40
  },
  {
   "metadata": {
    "ExecuteTime": {
     "end_time": "2025-06-04T06:47:25.052904Z",
     "start_time": "2025-06-04T06:47:25.026936Z"
    }
   },
   "cell_type": "code",
   "source": "cube_num = [y**3 for y in range(5)]",
   "id": "6169e62203ae7733",
   "outputs": [],
   "execution_count": 41
  },
  {
   "metadata": {
    "ExecuteTime": {
     "end_time": "2025-06-04T06:47:31.943269Z",
     "start_time": "2025-06-04T06:47:31.937128Z"
    }
   },
   "cell_type": "code",
   "source": "print(cube_num)",
   "id": "2d7573a403f8e163",
   "outputs": [
    {
     "name": "stdout",
     "output_type": "stream",
     "text": [
      "[0, 1, 8, 27, 64]\n"
     ]
    }
   ],
   "execution_count": 42
  }
 ],
 "metadata": {
  "kernelspec": {
   "display_name": "Python 3",
   "language": "python",
   "name": "python3"
  },
  "language_info": {
   "codemirror_mode": {
    "name": "ipython",
    "version": 2
   },
   "file_extension": ".py",
   "mimetype": "text/x-python",
   "name": "python",
   "nbconvert_exporter": "python",
   "pygments_lexer": "ipython2",
   "version": "2.7.6"
  }
 },
 "nbformat": 4,
 "nbformat_minor": 5
}
