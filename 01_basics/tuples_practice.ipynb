{
 "cells": [
  {
   "metadata": {},
   "cell_type": "markdown",
   "source": "**Tuples Practice**",
   "id": "93be4367fc010bd5"
  },
  {
   "metadata": {
    "ExecuteTime": {
     "end_time": "2025-06-04T07:30:53.408926Z",
     "start_time": "2025-06-04T07:30:53.367568Z"
    }
   },
   "cell_type": "code",
   "source": "tea_types = (\"Black\", \"Green\", \"Oolong\")",
   "id": "initial_id",
   "outputs": [],
   "execution_count": 3
  },
  {
   "metadata": {
    "ExecuteTime": {
     "end_time": "2025-06-04T07:30:55.671955Z",
     "start_time": "2025-06-04T07:30:55.608950Z"
    }
   },
   "cell_type": "code",
   "source": "print(tea_types)",
   "id": "a3eb8b51ab4aa89e",
   "outputs": [
    {
     "name": "stdout",
     "output_type": "stream",
     "text": [
      "('Black', 'Green', 'Oolong')\n"
     ]
    }
   ],
   "execution_count": 4
  },
  {
   "metadata": {
    "ExecuteTime": {
     "end_time": "2025-06-04T07:31:29.296349Z",
     "start_time": "2025-06-04T07:31:29.195590Z"
    }
   },
   "cell_type": "code",
   "source": "tea_types[0]",
   "id": "d35c15644f92c021",
   "outputs": [
    {
     "data": {
      "text/plain": [
       "'Black'"
      ]
     },
     "execution_count": 5,
     "metadata": {},
     "output_type": "execute_result"
    }
   ],
   "execution_count": 5
  },
  {
   "metadata": {
    "ExecuteTime": {
     "end_time": "2025-06-04T07:31:32.892570Z",
     "start_time": "2025-06-04T07:31:32.851861Z"
    }
   },
   "cell_type": "code",
   "source": "tea_types[1]",
   "id": "1a923c038d9598eb",
   "outputs": [
    {
     "data": {
      "text/plain": [
       "'Green'"
      ]
     },
     "execution_count": 6,
     "metadata": {},
     "output_type": "execute_result"
    }
   ],
   "execution_count": 6
  },
  {
   "metadata": {
    "ExecuteTime": {
     "end_time": "2025-06-04T07:31:46.889942Z",
     "start_time": "2025-06-04T07:31:46.877570Z"
    }
   },
   "cell_type": "code",
   "source": "print(len(tea_types))",
   "id": "9875fd3dcb9e15dd",
   "outputs": [
    {
     "name": "stdout",
     "output_type": "stream",
     "text": [
      "3\n"
     ]
    }
   ],
   "execution_count": 7
  },
  {
   "metadata": {
    "ExecuteTime": {
     "end_time": "2025-06-04T07:32:12.140883Z",
     "start_time": "2025-06-04T07:32:12.117874Z"
    }
   },
   "cell_type": "code",
   "source": "more_tea = (\"Herbal\", \"Earl Grey\")",
   "id": "353a72c57488b9f9",
   "outputs": [],
   "execution_count": 8
  },
  {
   "metadata": {
    "ExecuteTime": {
     "end_time": "2025-06-04T07:32:23.492167Z",
     "start_time": "2025-06-04T07:32:23.455151Z"
    }
   },
   "cell_type": "code",
   "source": [
    "all_tea = tea_types + more_tea\n",
    "print(all_tea)"
   ],
   "id": "8b40373e4991792",
   "outputs": [
    {
     "name": "stdout",
     "output_type": "stream",
     "text": [
      "('Black', 'Green', 'Oolong', 'Herbal', 'Earl Grey')\n"
     ]
    }
   ],
   "execution_count": 9
  },
  {
   "metadata": {
    "ExecuteTime": {
     "end_time": "2025-06-04T07:33:00.694394Z",
     "start_time": "2025-06-04T07:33:00.661299Z"
    }
   },
   "cell_type": "code",
   "source": [
    "if \"Herbal\" in all_tea:\n",
    "    print(\"I have Herbal tea\")\n",
    "else: print(\"I don't have Herbal tea\")"
   ],
   "id": "60b095cc6820ce8f",
   "outputs": [
    {
     "name": "stdout",
     "output_type": "stream",
     "text": [
      "I have Herbal tea\n"
     ]
    }
   ],
   "execution_count": 10
  },
  {
   "metadata": {
    "ExecuteTime": {
     "end_time": "2025-06-04T07:33:31.296122Z",
     "start_time": "2025-06-04T07:33:31.244106Z"
    }
   },
   "cell_type": "code",
   "source": "print(tea_types)",
   "id": "86e6441de98b2146",
   "outputs": [
    {
     "name": "stdout",
     "output_type": "stream",
     "text": [
      "('Black', 'Green', 'Oolong')\n"
     ]
    }
   ],
   "execution_count": 11
  },
  {
   "metadata": {
    "ExecuteTime": {
     "end_time": "2025-06-04T07:34:49.779098Z",
     "start_time": "2025-06-04T07:34:49.769573Z"
    }
   },
   "cell_type": "code",
   "source": [
    "(black, green, Oolong) = tea_types\n",
    "print(black)\n",
    "print(green)\n",
    "print(Oolong)"
   ],
   "id": "b64ec0cea6448f56",
   "outputs": [
    {
     "name": "stdout",
     "output_type": "stream",
     "text": [
      "Black\n",
      "Green\n",
      "Oolong\n"
     ]
    }
   ],
   "execution_count": 12
  },
  {
   "metadata": {
    "ExecuteTime": {
     "end_time": "2025-06-04T07:34:56.025150Z",
     "start_time": "2025-06-04T07:34:56.006902Z"
    }
   },
   "cell_type": "code",
   "source": "black",
   "id": "d82b023f13cb18b3",
   "outputs": [
    {
     "data": {
      "text/plain": [
       "'Black'"
      ]
     },
     "execution_count": 13,
     "metadata": {},
     "output_type": "execute_result"
    }
   ],
   "execution_count": 13
  },
  {
   "metadata": {
    "ExecuteTime": {
     "end_time": "2025-06-04T07:35:01.090458Z",
     "start_time": "2025-06-04T07:35:01.076100Z"
    }
   },
   "cell_type": "code",
   "source": "green",
   "id": "4b4824beffd8db42",
   "outputs": [
    {
     "data": {
      "text/plain": [
       "'Green'"
      ]
     },
     "execution_count": 14,
     "metadata": {},
     "output_type": "execute_result"
    }
   ],
   "execution_count": 14
  },
  {
   "metadata": {
    "ExecuteTime": {
     "end_time": "2025-06-04T07:35:04.877Z",
     "start_time": "2025-06-04T07:35:04.865056Z"
    }
   },
   "cell_type": "code",
   "source": "Oolong",
   "id": "6613c6fe167e1207",
   "outputs": [
    {
     "data": {
      "text/plain": [
       "'Oolong'"
      ]
     },
     "execution_count": 15,
     "metadata": {},
     "output_type": "execute_result"
    }
   ],
   "execution_count": 15
  },
  {
   "metadata": {
    "ExecuteTime": {
     "end_time": "2025-06-04T07:35:38.728207Z",
     "start_time": "2025-06-04T07:35:38.691019Z"
    }
   },
   "cell_type": "code",
   "source": "type(tea_types)",
   "id": "44f377c542c7ebb9",
   "outputs": [
    {
     "data": {
      "text/plain": [
       "tuple"
      ]
     },
     "execution_count": 16,
     "metadata": {},
     "output_type": "execute_result"
    }
   ],
   "execution_count": 16
  },
  {
   "metadata": {},
   "cell_type": "code",
   "outputs": [],
   "execution_count": null,
   "source": "",
   "id": "9c553c699aa8a0de"
  }
 ],
 "metadata": {
  "kernelspec": {
   "display_name": "Python 3",
   "language": "python",
   "name": "python3"
  },
  "language_info": {
   "codemirror_mode": {
    "name": "ipython",
    "version": 2
   },
   "file_extension": ".py",
   "mimetype": "text/x-python",
   "name": "python",
   "nbconvert_exporter": "python",
   "pygments_lexer": "ipython2",
   "version": "2.7.6"
  }
 },
 "nbformat": 4,
 "nbformat_minor": 5
}
